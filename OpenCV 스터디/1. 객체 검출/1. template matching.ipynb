{
 "cells": [
  {
   "cell_type": "markdown",
   "id": "64be9f3a",
   "metadata": {},
   "source": [
    "# 템플릿 매칭\n",
    "- 입력된 영상에서 작은 크기 부분의 영상 위치를 찾아내고 싶을 때 사용하는 방식\n",
    "- 템플릿: 찾고자 하는 대상이 되는 작은 크기의 영상"
   ]
  },
  {
   "cell_type": "markdown",
   "id": "9298ceab",
   "metadata": {},
   "source": [
    "### 입력 영상\n",
    "<img src=\"input/circuit.bmp\" width = \"60%\" height = \"60%\">"
   ]
  },
  {
   "cell_type": "markdown",
   "id": "64033faf",
   "metadata": {},
   "source": [
    "### 템플릿\n",
    "<img src=\"input/crystal.bmp\">"
   ]
  },
  {
   "cell_type": "code",
   "execution_count": 20,
   "id": "fb0b510c",
   "metadata": {},
   "outputs": [],
   "source": [
    "import sys\n",
    "import numpy as np\n",
    "import cv2"
   ]
  },
  {
   "cell_type": "code",
   "execution_count": 21,
   "id": "0eea4f29",
   "metadata": {},
   "outputs": [],
   "source": [
    "img = cv2.imread('input/circuit.bmp', cv2.IMREAD_COLOR) # circuit.bmp가 입력 이미지\n",
    "templ = cv2.imread('input/crystal.bmp', cv2.IMREAD_COLOR) # crystal이 템플릿 이미지"
   ]
  },
  {
   "cell_type": "code",
   "execution_count": 22,
   "id": "ef517ce3",
   "metadata": {},
   "outputs": [],
   "source": [
    "# 이미지 확인\n",
    "cv2.imshow(\"img\", img)\n",
    "cv2.imshow(\"templ\", templ)\n",
    "cv2.waitKey()\n",
    "cv2.destroyAllWindows()"
   ]
  },
  {
   "cell_type": "code",
   "execution_count": 23,
   "id": "dd8a42a1",
   "metadata": {},
   "outputs": [],
   "source": [
    "# img 파일이나 templ 파일이 불러와지지 않았을 때 확인해주는 구문\n",
    "if img is None or templ is None:\n",
    "    print('Image load failed!')\n",
    "    sys.exit()"
   ]
  },
  {
   "cell_type": "markdown",
   "id": "88352803",
   "metadata": {},
   "source": [
    "# 탬플릿 매칭 함수\n",
    "- cv2.matchTemplate(\"원본 이미지\",\"템플릿 이미지\", \"템플릿 매칭 플래그\")"
   ]
  },
  {
   "cell_type": "markdown",
   "id": "5527829f",
   "metadata": {},
   "source": [
    "### 템플릿 매칭 플래그\n",
    "<img src=\"info/figure01.png\" width = \"60%\" height = \"60%\">"
   ]
  },
  {
   "cell_type": "markdown",
   "id": "10df2f63",
   "metadata": {},
   "source": [
    "### cv2.normalize(src, dst, alpha, beta, type_flag)\n",
    "- src: 정규화 이전 데이터\n",
    "- dst: 정규화 이후 데이터\n",
    "- alpha: 정규화 구간 1\n",
    "- beta: 정규화 구간 2, 구간 정규화가 아닌 경우 사용 안 함\n",
    "- type_flag: 정규화 알고리즘 선택 플래그 상수"
   ]
  },
  {
   "cell_type": "code",
   "execution_count": 26,
   "id": "2b7c6ce5",
   "metadata": {},
   "outputs": [
    {
     "name": "stdout",
     "output_type": "stream",
     "text": [
      "maxv: 0.650736927986145\n"
     ]
    }
   ],
   "source": [
    "img = img + (50, 50, 50) # 입력 이미지의 밝기를 50 증가\n",
    "noise = np.zeros(img.shape, np.int32)\n",
    "cv2.randn(noise, 0, 10) \n",
    "img = cv2.add(img, noise, dtype=cv2.CV_8UC3) # 표준편차 10의 가우시안 잡음 추가\n",
    "\n",
    "res = cv2.matchTemplate(img, templ, cv2.TM_CCOEFF_NORMED) # 템플릿 매칭 시행\n",
    "res_norm = cv2.normalize(res, None, 0, 255, cv2.NORM_MINMAX, cv2.CV_8U) # 매칭 결과 정규화\n",
    "\n",
    "# maxv는 매칭 확률에 가까운 척도\n",
    "# maxloc는 매칭 위치\n",
    "_, maxv, _, maxloc = cv2.minMaxLoc(res) \n",
    "print('maxv:', maxv)"
   ]
  },
  {
   "cell_type": "code",
   "execution_count": 27,
   "id": "6bd33238",
   "metadata": {},
   "outputs": [],
   "source": [
    "(th, tw) = templ.shape[:2] # templ의 세로, 가로 사이즈\n",
    "cv2.rectangle(img, maxloc, (maxloc[0] + tw, maxloc[1] + th), (0, 0, 255), 2) # 매칭이 된 위치에 네모박스 그림\n",
    "\n",
    "cv2.imshow('templ', templ) \n",
    "cv2.imshow('res_norm', res_norm)\n",
    "cv2.imshow('img', img)\n",
    "cv2.waitKey()\n",
    "cv2.destroyAllWindows()"
   ]
  }
 ],
 "metadata": {
  "kernelspec": {
   "display_name": "Python 3 (ipykernel)",
   "language": "python",
   "name": "python3"
  },
  "language_info": {
   "codemirror_mode": {
    "name": "ipython",
    "version": 3
   },
   "file_extension": ".py",
   "mimetype": "text/x-python",
   "name": "python",
   "nbconvert_exporter": "python",
   "pygments_lexer": "ipython3",
   "version": "3.7.11"
  }
 },
 "nbformat": 4,
 "nbformat_minor": 5
}
