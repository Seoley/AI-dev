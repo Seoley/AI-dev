{
 "cells": [
  {
   "cell_type": "markdown",
   "id": "07da4d39",
   "metadata": {},
   "source": [
    "# Haar 특징 선택\n",
    "- 이미지의 명도차이를 고려하여 하르 특징을 계산한다\n",
    "- 예를들어, 사람의 얼굴이라면 콧대부분은 밝고 양쪽 눈이 있는 곳은 어둡다는 특징을 고려하는 것이다."
   ]
  },
  {
   "cell_type": "markdown",
   "id": "d80f33c0",
   "metadata": {},
   "source": [
    "### Haar 필터\n",
    "<img src=\"./info/figure02.jpg\"/>"
   ]
  },
  {
   "cell_type": "markdown",
   "id": "631883a8",
   "metadata": {},
   "source": [
    "#### 얼굴에 적용하는 Haar 필터의 예\n",
    "<img src=\"./info/figure03.png\">"
   ]
  },
  {
   "cell_type": "markdown",
   "id": "c620c692",
   "metadata": {},
   "source": [
    "# Cascade\n",
    "- 얼굴 영역을 걸러내는데에 6000개의 필터가 필요하므로, 이 모든것을 사용하면 연산에 오래 걸림\n",
    "- 단계를 나누고, 각 단계의 필터에서 조건을 만족하지 않는 이미지는 이후 단계로 넘기지 않음\n",
    "<img src=\"info/figure04.png\" width = \"80%\" height = \"80%\">"
   ]
  },
  {
   "cell_type": "markdown",
   "id": "7e60f428",
   "metadata": {},
   "source": [
    "### OpenCV에서 제공하는 Haar 필터\n",
    "<img src=\"info/figure05.png\" width = \"60%\" height = \"60%\">\n",
    "이미지 출처: OpenCV4로 배우는 컴퓨터 비전과 머신러닝"
   ]
  },
  {
   "cell_type": "code",
   "execution_count": 1,
   "id": "14ae7942",
   "metadata": {},
   "outputs": [],
   "source": [
    "import numpy as np\n",
    "import cv2"
   ]
  },
  {
   "cell_type": "code",
   "execution_count": 5,
   "id": "396e6691",
   "metadata": {},
   "outputs": [],
   "source": [
    "def detect_face():\n",
    "    src = cv2.imread('input/kids.png')\n",
    "\n",
    "    if src is None:\n",
    "        print('Image load failed!')\n",
    "        return\n",
    "\n",
    "    classifier = cv2.CascadeClassifier('xml/haarcascade_frontalface_default.xml')\n",
    "\n",
    "    if classifier.empty():\n",
    "        print('XML load failed!')\n",
    "        return\n",
    "\n",
    "    faces = classifier.detectMultiScale(src)\n",
    "\n",
    "    for (x, y, w, h) in faces:\n",
    "        cv2.rectangle(src, (x, y), (x + w, y + h), (255, 0, 255), 2)\n",
    "\n",
    "    cv2.imshow('src', src)\n",
    "    cv2.waitKey()\n",
    "    cv2.destroyAllWindows()"
   ]
  },
  {
   "cell_type": "code",
   "execution_count": 6,
   "id": "d3e766f7",
   "metadata": {},
   "outputs": [],
   "source": [
    "def detect_eyes():\n",
    "    src = cv2.imread('input/kids.png')\n",
    "\n",
    "    if src is None:\n",
    "        print('Image load failed!')\n",
    "        return\n",
    "\n",
    "    face_classifier = cv2.CascadeClassifier('xml/haarcascade_frontalface_default.xml')\n",
    "    eye_classifier = cv2.CascadeClassifier('xml/haarcascade_eye.xml')\n",
    "\n",
    "    if face_classifier.empty() or eye_classifier.empty():\n",
    "        print('XML load failed!')\n",
    "        return\n",
    "\n",
    "    faces = face_classifier.detectMultiScale(src)\n",
    "\n",
    "    for (x1, y1, w1, h1) in faces:\n",
    "        cv2.rectangle(src, (x1, y1), (x1 + w1, y1 + h1), (255, 0, 255), 2)\n",
    "\n",
    "        faceROI = src[y1:y1 + h1, x1:x1 + w1]\n",
    "        eyes = eye_classifier.detectMultiScale(faceROI)\n",
    "\n",
    "        for (x2, y2, w2, h2) in eyes:\n",
    "            center = (int(x2 + w2 / 2), int(y2 + h2 / 2))\n",
    "            cv2.circle(faceROI, center, int(w2 / 2), (255, 0, 0), 2, cv2.LINE_AA)\n",
    "\n",
    "    cv2.imshow('src', src)\n",
    "    cv2.waitKey()\n",
    "    cv2.destroyAllWindows()"
   ]
  },
  {
   "cell_type": "code",
   "execution_count": 7,
   "id": "8923ad0c",
   "metadata": {
    "scrolled": true
   },
   "outputs": [],
   "source": [
    "detect_face()"
   ]
  },
  {
   "cell_type": "code",
   "execution_count": 8,
   "id": "a2a6d996",
   "metadata": {},
   "outputs": [],
   "source": [
    "detect_eyes()"
   ]
  }
 ],
 "metadata": {
  "kernelspec": {
   "display_name": "Python 3 (ipykernel)",
   "language": "python",
   "name": "python3"
  },
  "language_info": {
   "codemirror_mode": {
    "name": "ipython",
    "version": 3
   },
   "file_extension": ".py",
   "mimetype": "text/x-python",
   "name": "python",
   "nbconvert_exporter": "python",
   "pygments_lexer": "ipython3",
   "version": "3.7.11"
  }
 },
 "nbformat": 4,
 "nbformat_minor": 5
}
