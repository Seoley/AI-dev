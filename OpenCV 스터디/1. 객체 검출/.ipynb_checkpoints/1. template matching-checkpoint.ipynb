{
 "cells": [
  {
   "cell_type": "markdown",
   "id": "51876037",
   "metadata": {},
   "source": [
    "# 템플릿 매칭\n",
    "- 입력된 영상에서 작은 크기 부분의 영상 위치를 찾아내고 싶을 때 사용하는 방식\n",
    "- 템플릿: 찾고자 하는 대상이 되는 작은 크기의 영상"
   ]
  },
  {
   "cell_type": "markdown",
   "id": "48bc10d7",
   "metadata": {},
   "source": [
    "### 입력 영상\n",
    "<img src=\"input/circuit.bmp\">"
   ]
  },
  {
   "cell_type": "markdown",
   "id": "deaa798d",
   "metadata": {},
   "source": [
    "### 템플릿\n",
    "<img src=\"input/crystal.bmp\">"
   ]
  },
  {
   "cell_type": "code",
   "execution_count": 9,
   "id": "fb0b510c",
   "metadata": {},
   "outputs": [],
   "source": [
    "import sys\n",
    "import numpy as np\n",
    "import cv2"
   ]
  },
  {
   "cell_type": "code",
   "execution_count": 10,
   "id": "3cf9e6d0",
   "metadata": {},
   "outputs": [],
   "source": [
    "# \n",
    "img = cv2.imread('input/circuit.bmp', cv2.IMREAD_COLOR)\n",
    "templ = cv2.imread('input/crystal.bmp', cv2.IMREAD_COLOR)"
   ]
  },
  {
   "cell_type": "code",
   "execution_count": 11,
   "id": "ae99cdb0",
   "metadata": {},
   "outputs": [],
   "source": [
    "# 이미지 확인\n",
    "cv2.imshow(\"img\", img)\n",
    "cv2.imshow(\"templ\", templ)\n",
    "cv2.waitKey()\n",
    "cv2.destroyAllWindows()"
   ]
  },
  {
   "cell_type": "code",
   "execution_count": 13,
   "id": "22be75c3",
   "metadata": {},
   "outputs": [],
   "source": [
    "# img 파일이나 templ 파일이 불러와지지 않았을 때 확인해주는 구문\n",
    "if img is None or templ is None:\n",
    "    print('Image load failed!')\n",
    "    sys.exit()"
   ]
  },
  {
   "cell_type": "code",
   "execution_count": 17,
   "id": "75111380",
   "metadata": {},
   "outputs": [
    {
     "ename": "error",
     "evalue": "OpenCV(4.5.1) C:/Users/appveyor/AppData/Local/Temp/1/pip-req-build-r2ue8w6k/opencv/modules/highgui/src/precomp.hpp:137: error: (-215:Assertion failed) src_depth != CV_16F && src_depth != CV_32S in function 'convertToShow'\n",
     "output_type": "error",
     "traceback": [
      "\u001b[1;31m---------------------------------------------------------------------------\u001b[0m",
      "\u001b[1;31merror\u001b[0m                                     Traceback (most recent call last)",
      "\u001b[1;32m~\\AppData\\Local\\Temp/ipykernel_21920/2515537115.py\u001b[0m in \u001b[0;36m<module>\u001b[1;34m\u001b[0m\n\u001b[0;32m      1\u001b[0m \u001b[1;31m# 입력 이미지의 밝기를 50 증가\u001b[0m\u001b[1;33m\u001b[0m\u001b[1;33m\u001b[0m\u001b[1;33m\u001b[0m\u001b[0m\n\u001b[0;32m      2\u001b[0m \u001b[0mimg\u001b[0m \u001b[1;33m=\u001b[0m \u001b[0mimg\u001b[0m \u001b[1;33m+\u001b[0m \u001b[1;33m(\u001b[0m\u001b[1;36m50\u001b[0m\u001b[1;33m,\u001b[0m \u001b[1;36m50\u001b[0m\u001b[1;33m,\u001b[0m \u001b[1;36m50\u001b[0m\u001b[1;33m)\u001b[0m\u001b[1;33m\u001b[0m\u001b[1;33m\u001b[0m\u001b[0m\n\u001b[1;32m----> 3\u001b[1;33m \u001b[0mcv2\u001b[0m\u001b[1;33m.\u001b[0m\u001b[0mimshow\u001b[0m\u001b[1;33m(\u001b[0m\u001b[1;34m\"img\"\u001b[0m\u001b[1;33m,\u001b[0m \u001b[0mimg\u001b[0m\u001b[1;33m)\u001b[0m\u001b[1;33m\u001b[0m\u001b[1;33m\u001b[0m\u001b[0m\n\u001b[0m\u001b[0;32m      4\u001b[0m \u001b[0mcv2\u001b[0m\u001b[1;33m.\u001b[0m\u001b[0mwaitKey\u001b[0m\u001b[1;33m(\u001b[0m\u001b[1;33m)\u001b[0m\u001b[1;33m\u001b[0m\u001b[1;33m\u001b[0m\u001b[0m\n\u001b[0;32m      5\u001b[0m \u001b[0mcv2\u001b[0m\u001b[1;33m.\u001b[0m\u001b[0mdestroyAllWindows\u001b[0m\u001b[1;33m(\u001b[0m\u001b[1;33m)\u001b[0m\u001b[1;33m\u001b[0m\u001b[1;33m\u001b[0m\u001b[0m\n",
      "\u001b[1;31merror\u001b[0m: OpenCV(4.5.1) C:/Users/appveyor/AppData/Local/Temp/1/pip-req-build-r2ue8w6k/opencv/modules/highgui/src/precomp.hpp:137: error: (-215:Assertion failed) src_depth != CV_16F && src_depth != CV_32S in function 'convertToShow'\n"
     ]
    }
   ],
   "source": [
    "# 입력 이미지의 밝기를 50 증가\n",
    "img = img + (50, 50, 50)\n",
    "cv2.imshow(\"img\", img)\n",
    "cv2.waitKey()\n",
    "cv2.destroyAllWindows()"
   ]
  },
  {
   "cell_type": "code",
   "execution_count": null,
   "id": "44d66e0d",
   "metadata": {},
   "outputs": [],
   "source": [
    "noise = np.zeros(img.shape, np.int32)\n",
    "cv2.randn(noise, 0, 10)\n",
    "img = cv2.add(img, noise, dtype=cv2.CV_8UC3)\n",
    "\n",
    "res = cv2.matchTemplate(img, templ, cv2.TM_CCOEFF_NORMED)\n",
    "res_norm = cv2.normalize(res, None, 0, 255, cv2.NORM_MINMAX, cv2.CV_8U)\n",
    "\n",
    "_, maxv, _, maxloc = cv2.minMaxLoc(res)\n",
    "print('maxv:', maxv)\n",
    "\n",
    "(th, tw) = templ.shape[:2]\n",
    "cv2.rectangle(img, maxloc, (maxloc[0] + tw, maxloc[1] + th), (0, 0, 255), 2)\n",
    "\n",
    "cv2.imshow('templ', templ) \n",
    "cv2.imshow('res_norm', res_norm)\n",
    "cv2.imshow('img', img)\n",
    "cv2.waitKey()\n",
    "cv2.destroyAllWindows()"
   ]
  }
 ],
 "metadata": {
  "kernelspec": {
   "display_name": "Python 3 (ipykernel)",
   "language": "python",
   "name": "python3"
  },
  "language_info": {
   "codemirror_mode": {
    "name": "ipython",
    "version": 3
   },
   "file_extension": ".py",
   "mimetype": "text/x-python",
   "name": "python",
   "nbconvert_exporter": "python",
   "pygments_lexer": "ipython3",
   "version": "3.7.11"
  }
 },
 "nbformat": 4,
 "nbformat_minor": 5
}
